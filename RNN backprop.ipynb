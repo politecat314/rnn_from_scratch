{
 "cells": [
  {
   "cell_type": "code",
   "execution_count": 3,
   "id": "3515bc63",
   "metadata": {},
   "outputs": [],
   "source": [
    "import math\n",
    "import random"
   ]
  },
  {
   "cell_type": "code",
   "execution_count": 4,
   "id": "dd61fbbe",
   "metadata": {},
   "outputs": [],
   "source": [
    "# log loss because binary outputs\n",
    "# sigmoid as activation funciton"
   ]
  },
  {
   "cell_type": "code",
   "execution_count": 5,
   "id": "97d23178",
   "metadata": {},
   "outputs": [],
   "source": [
    "def log_loss(y_hat, y):\n",
    "    \"\"\"\n",
    "    y_hat is the prediction\n",
    "    y is the true value\n",
    "    \"\"\"\n",
    "    if y == 1:\n",
    "        return -math.log(y_hat)\n",
    "    elif y == 0:\n",
    "        return -math.log(1-y_hat)\n",
    "    else:\n",
    "        raise InvalidInputError(\"y must be 0 or 1 but it is \", y)"
   ]
  },
  {
   "cell_type": "code",
   "execution_count": 6,
   "id": "29ed18f2",
   "metadata": {},
   "outputs": [],
   "source": [
    "def sigmoid(z):\n",
    "    return 1 / (1 + (math.e**-z))"
   ]
  },
  {
   "cell_type": "markdown",
   "id": "4655a5a1",
   "metadata": {},
   "source": [
    "## Derivatives"
   ]
  },
  {
   "cell_type": "code",
   "execution_count": 7,
   "id": "21e9896d",
   "metadata": {},
   "outputs": [],
   "source": [
    "def by_derivative(y_hat, y):\n",
    "    \"\"\"\n",
    "    y bias derivative with respect to log loss\n",
    "    \"\"\"\n",
    "    return (y_hat-y)"
   ]
  },
  {
   "cell_type": "code",
   "execution_count": 8,
   "id": "ee7261ff",
   "metadata": {},
   "outputs": [],
   "source": [
    "def Wy_derivative(y_hat, y, a):\n",
    "    \"\"\"\n",
    "    y weights derivative with respect to log loss\n",
    "    \"\"\"\n",
    "    return by_derivative(y_hat,y)*a"
   ]
  },
  {
   "cell_type": "code",
   "execution_count": 9,
   "id": "86b6c92f",
   "metadata": {},
   "outputs": [],
   "source": [
    "def ba_derivative(y_hat, y, Wy, an):\n",
    "    \"\"\"\n",
    "    x bias derivative\n",
    "    \"\"\"\n",
    "    return (y_hat-y)*Wy*an*(1-an)"
   ]
  },
  {
   "cell_type": "code",
   "execution_count": 10,
   "id": "1d35be74",
   "metadata": {},
   "outputs": [],
   "source": [
    "def Waa_derivative(y_hat, y, Wy, an, a_prev):\n",
    "    return ba_derivative(y_hat, y, Wy, an) * a_prev\n",
    "\n",
    "def Wax_derivative(y_hat, y, Wy, an, x):\n",
    "    return ba_derivative(y_hat, y, Wy, an) * x"
   ]
  },
  {
   "cell_type": "markdown",
   "id": "5f3ff734",
   "metadata": {},
   "source": [
    "## Sample data"
   ]
  },
  {
   "cell_type": "code",
   "execution_count": 13,
   "id": "f32f6c3e",
   "metadata": {},
   "outputs": [],
   "source": [
    "X = []\n",
    "\n",
    "for i in range(1000):\n",
    "    sequence_length = random.randint(4,10)\n",
    "    \n",
    "    current_sequence = []\n",
    "    for j in range(sequence_length):\n",
    "        current_sequence.append(random.choice([0,1]))\n",
    "        \n",
    "    X.append(current_sequence)"
   ]
  },
  {
   "cell_type": "code",
   "execution_count": 17,
   "id": "d1442f89",
   "metadata": {},
   "outputs": [],
   "source": [
    "y = []\n",
    "for sequence in X:\n",
    "    shifted_sequence = [0] + sequence[:-1]\n",
    "    y.append(shifted_sequence)"
   ]
  },
  {
   "cell_type": "code",
   "execution_count": 14,
   "id": "8b22560e",
   "metadata": {},
   "outputs": [
    {
     "data": {
      "text/plain": [
       "[[0, 1, 1, 0, 1],\n",
       " [0, 0, 1, 0],\n",
       " [1, 0, 0, 1, 0, 0, 0, 1, 1],\n",
       " [1, 0, 1, 1, 0, 0, 0, 0, 1],\n",
       " [0, 1, 1, 1, 0, 1, 0, 0, 1],\n",
       " [0, 1, 1, 0, 1, 1, 1, 1, 0, 0],\n",
       " [0, 0, 1, 1, 0, 1],\n",
       " [1, 0, 1, 0, 0, 0, 1, 1, 0, 1],\n",
       " [0, 0, 0, 1, 0, 1, 0, 0, 0],\n",
       " [1, 1, 1, 1, 1, 1, 1, 0]]"
      ]
     },
     "execution_count": 14,
     "metadata": {},
     "output_type": "execute_result"
    }
   ],
   "source": [
    "X[:10]"
   ]
  },
  {
   "cell_type": "code",
   "execution_count": 18,
   "id": "c23e5add",
   "metadata": {},
   "outputs": [
    {
     "data": {
      "text/plain": [
       "[[0, 0, 1, 1, 0],\n",
       " [0, 0, 0, 1],\n",
       " [0, 1, 0, 0, 1, 0, 0, 0, 1],\n",
       " [0, 1, 0, 1, 1, 0, 0, 0, 0],\n",
       " [0, 0, 1, 1, 1, 0, 1, 0, 0],\n",
       " [0, 0, 1, 1, 0, 1, 1, 1, 1, 0],\n",
       " [0, 0, 0, 1, 1, 0],\n",
       " [0, 1, 0, 1, 0, 0, 0, 1, 1, 0],\n",
       " [0, 0, 0, 0, 1, 0, 1, 0, 0],\n",
       " [0, 1, 1, 1, 1, 1, 1, 1]]"
      ]
     },
     "execution_count": 18,
     "metadata": {},
     "output_type": "execute_result"
    }
   ],
   "source": [
    "y[:10]"
   ]
  },
  {
   "cell_type": "markdown",
   "id": "ac5e245c",
   "metadata": {},
   "source": [
    "## Define the RNN"
   ]
  },
  {
   "cell_type": "code",
   "execution_count": 26,
   "id": "693cca9c",
   "metadata": {},
   "outputs": [],
   "source": [
    "class RNN:\n",
    "    def __init__(self):\n",
    "        self.Wy = random.random()\n",
    "        self.by = random.random()\n",
    "        \n",
    "        self.Waa = random.random()\n",
    "        self.Wax = random.random()\n",
    "        self.ba = random.random()"
   ]
  },
  {
   "cell_type": "code",
   "execution_count": null,
   "id": "8b27c2e1",
   "metadata": {},
   "outputs": [],
   "source": []
  }
 ],
 "metadata": {
  "kernelspec": {
   "display_name": "Python 3 (ipykernel)",
   "language": "python",
   "name": "python3"
  },
  "language_info": {
   "codemirror_mode": {
    "name": "ipython",
    "version": 3
   },
   "file_extension": ".py",
   "mimetype": "text/x-python",
   "name": "python",
   "nbconvert_exporter": "python",
   "pygments_lexer": "ipython3",
   "version": "3.11.5"
  }
 },
 "nbformat": 4,
 "nbformat_minor": 5
}
