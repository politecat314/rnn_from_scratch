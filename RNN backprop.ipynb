{
 "cells": [
  {
   "cell_type": "code",
   "execution_count": 20,
   "id": "3515bc63",
   "metadata": {},
   "outputs": [],
   "source": [
    "import math\n",
    "import random"
   ]
  },
  {
   "cell_type": "code",
   "execution_count": 22,
   "id": "dd61fbbe",
   "metadata": {},
   "outputs": [],
   "source": [
    "# log loss because binary outputs\n",
    "# sigmoid as activation funciton"
   ]
  },
  {
   "cell_type": "code",
   "execution_count": 10,
   "id": "97d23178",
   "metadata": {},
   "outputs": [],
   "source": [
    "def log_loss(y_hat, y):\n",
    "    \"\"\"\n",
    "    y_hat is the prediction\n",
    "    y is the true value\n",
    "    \"\"\"\n",
    "    if y == 1:\n",
    "        return -math.log(y_hat)\n",
    "    elif y == 0:\n",
    "        return -math.log(1-y_hat)\n",
    "    else:\n",
    "        raise InvalidInputError(\"y must be 0 or 1 but it is \", y)"
   ]
  },
  {
   "cell_type": "code",
   "execution_count": 18,
   "id": "29ed18f2",
   "metadata": {},
   "outputs": [],
   "source": [
    "def sigmoid(z):\n",
    "    return 1 / (1 + (math.e**-z))"
   ]
  },
  {
   "cell_type": "code",
   "execution_count": 21,
   "id": "4a862e2d",
   "metadata": {},
   "outputs": [],
   "source": [
    "def sig_derivative(x):\n",
    "    return sigmoid(x) * (1-sigmoid(x))"
   ]
  },
  {
   "cell_type": "code",
   "execution_count": 23,
   "id": "ee7261ff",
   "metadata": {},
   "outputs": [],
   "source": [
    "def Wy_derivative(y_hat, y, x):\n",
    "    \"\"\"\n",
    "    y weights derivative with respect to log loss\n",
    "    \"\"\"\n",
    "    return (y_hat-y)*x"
   ]
  },
  {
   "cell_type": "code",
   "execution_count": null,
   "id": "21e9896d",
   "metadata": {},
   "outputs": [],
   "source": []
  }
 ],
 "metadata": {
  "kernelspec": {
   "display_name": "tf2",
   "language": "python",
   "name": "tf2"
  },
  "language_info": {
   "codemirror_mode": {
    "name": "ipython",
    "version": 3
   },
   "file_extension": ".py",
   "mimetype": "text/x-python",
   "name": "python",
   "nbconvert_exporter": "python",
   "pygments_lexer": "ipython3",
   "version": "3.8.11"
  }
 },
 "nbformat": 4,
 "nbformat_minor": 5
}
